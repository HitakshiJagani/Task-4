{
  "nbformat": 4,
  "nbformat_minor": 0,
  "metadata": {
    "colab": {
      "provenance": [],
      "authorship_tag": "ABX9TyMHwZMyQ8USAAOlQiwIbD9s",
      "include_colab_link": true
    },
    "kernelspec": {
      "name": "python3",
      "display_name": "Python 3"
    },
    "language_info": {
      "name": "python"
    }
  },
  "cells": [
    {
      "cell_type": "markdown",
      "metadata": {
        "id": "view-in-github",
        "colab_type": "text"
      },
      "source": [
        "<a href=\"https://colab.research.google.com/github/HitakshiJagani/Task-4/blob/main/Copy_of_movie_recommedation.ipynb\" target=\"_parent\"><img src=\"https://colab.research.google.com/assets/colab-badge.svg\" alt=\"Open In Colab\"/></a>"
      ]
    },
    {
      "cell_type": "code",
      "execution_count": null,
      "metadata": {
        "colab": {
          "base_uri": "https://localhost:8080/"
        },
        "id": "xoX3NrC9i3yV",
        "outputId": "cc82a50a-32ce-4d92-b2b3-dc2e8e2e1d00"
      },
      "outputs": [
        {
          "output_type": "stream",
          "name": "stdout",
          "text": [
            "=============================================\n",
            " 🎬 Welcome to Hitakshi's Movie Recommendation System 🎬 \n",
            "=============================================\n",
            "\n",
            "Available Movies:\n",
            "Inception, Interstellar, The Dark Knight, Avengers: Endgame, Iron Man, Doctor Strange, Spider-Man: No Way Home, Guardians of the Galaxy, Thor: Ragnarok, Black Panther, The Batman, Aquaman, Joker, Shang-Chi, Eternals\n",
            "\n",
            "Enter a movie name (or type 'exit'): iron man\n",
            "\n",
            "🎥 Recommended Movies for 'Iron Man':\n",
            "\n",
            "➡ Spider-Man: No Way Home  (Action Superhero)\n",
            "➡ Eternals  (Sci-Fi Action)\n",
            "➡ Avengers: Endgame  (Action Superhero)\n",
            "➡ Interstellar  (Sci-Fi Adventure)\n",
            "➡ Guardians of the Galaxy  (Sci-Fi Comedy)\n",
            "\n",
            "Enter a movie name (or type 'exit'): exit\n",
            "\n",
            "🙏 Thanks for using Hitakshi's Movie Recommendation System!\n"
          ]
        }
      ],
      "source": [
        "import pandas as pd\n",
        "from sklearn.feature_extraction.text import TfidfVectorizer\n",
        "from sklearn.metrics.pairwise import cosine_similarity\n",
        "\n",
        "# Step 1: Dataset\n",
        "movies_data = {\n",
        "    \"Title\": [\n",
        "        \"Inception\", \"Interstellar\", \"The Dark Knight\", \"Avengers: Endgame\",\n",
        "        \"Iron Man\", \"Doctor Strange\", \"Spider-Man: No Way Home\",\n",
        "        \"Guardians of the Galaxy\", \"Thor: Ragnarok\", \"Black Panther\",\n",
        "        \"The Batman\", \"Aquaman\", \"Joker\", \"Shang-Chi\", \"Eternals\"\n",
        "    ],\n",
        "    \"Genre\": [\n",
        "        \"Sci-Fi Thriller\", \"Sci-Fi Adventure\", \"Action Crime\", \"Action Superhero\",\n",
        "        \"Action Sci-Fi\", \"Fantasy Adventure\", \"Action Superhero\",\n",
        "        \"Sci-Fi Comedy\", \"Fantasy Action\", \"Action Drama\",\n",
        "        \"Action Mystery\", \"Fantasy Adventure\", \"Crime Drama\",\n",
        "        \"Fantasy Martial-Arts\", \"Sci-Fi Action\"\n",
        "    ],\n",
        "    \"Summary\": [\n",
        "        \"A thief enters dreams to steal corporate secrets and plants an idea.\",\n",
        "        \"A team travels through a wormhole to find a new home for humanity.\",\n",
        "        \"Batman fights Joker, who brings chaos and anarchy to Gotham City.\",\n",
        "        \"The Avengers unite to stop Thanos and reverse his destruction.\",\n",
        "        \"Tony Stark builds an advanced suit and becomes the superhero Iron Man.\",\n",
        "        \"A surgeon masters mystical arts to protect the multiverse from evil.\",\n",
        "        \"Spider-Man teams up with allies across the multiverse to fight villains.\",\n",
        "        \"Misfit criminals form a team to save the galaxy from destruction.\",\n",
        "        \"Thor faces his sister Hela to save Asgard from ultimate doom.\",\n",
        "        \"T'Challa becomes king and fights to protect Wakanda from invaders.\",\n",
        "        \"Batman faces Riddler, who exposes dark secrets in Gotham City.\",\n",
        "        \"Aquaman claims his destiny as king of Atlantis while stopping a war.\",\n",
        "        \"A failed comedian becomes the infamous criminal mastermind, Joker.\",\n",
        "        \"Shang-Chi confronts his past and battles his powerful father.\",\n",
        "        \"Eternals awaken to stop an ancient threat endangering Earth.\"\n",
        "    ]\n",
        "}\n",
        "\n",
        "df = pd.DataFrame(movies_data)\n",
        "\n",
        "# Step 2: Combine features into a single column\n",
        "df[\"Combined\"] = df.apply(lambda row: f\"{row['Genre']} {row['Summary']}\", axis=1)\n",
        "\n",
        "# Step 3: Vectorize using TF-IDF\n",
        "tfidf = TfidfVectorizer(stop_words=\"english\")\n",
        "tfidf_matrix = tfidf.fit_transform(df[\"Combined\"])\n",
        "\n",
        "# Step 4: Compute similarity matrix\n",
        "similarity_matrix = cosine_similarity(tfidf_matrix)\n",
        "\n",
        "# Step 5: Recommendation function (case-insensitive)\n",
        "def recommend_movies(movie_name):\n",
        "    movie_name = movie_name.strip().lower()\n",
        "    title_map = {title.lower(): idx for idx, title in enumerate(df[\"Title\"])}\n",
        "\n",
        "    if movie_name not in title_map:\n",
        "        print(f\"❌ '{movie_name}' not found in movie list. Try again!\")\n",
        "        return\n",
        "\n",
        "    index = title_map[movie_name]\n",
        "    scores = list(enumerate(similarity_matrix[index]))\n",
        "    ranked = sorted(scores, key=lambda x: x[1], reverse=True)\n",
        "\n",
        "    print(f\"\\n🎥 Recommended Movies for '{df['Title'][index]}':\\n\")\n",
        "    for idx, _ in ranked[1:6]:\n",
        "        print(f\"➡ {df['Title'][idx]}  ({df['Genre'][idx]})\")\n",
        "\n",
        "# Step 6: User Interaction Loop\n",
        "print(\"=\" * 45)\n",
        "print(\" 🎬 Welcome to Hitakshi's Movie Recommendation System 🎬 \")\n",
        "print(\"=\" * 45)\n",
        "print(\"\\nAvailable Movies:\")\n",
        "print(\", \".join(df[\"Title\"].values))\n",
        "\n",
        "while True:\n",
        "    user_movie = input(\"\\nEnter a movie name (or type 'exit'): \")\n",
        "    if user_movie.lower() == \"exit\":\n",
        "        print(\"\\n🙏 Thanks for using Hitakshi's Movie Recommendation System!\")\n",
        "        break\n",
        "    recommend_movies(user_movie)\n"
      ]
    }
  ]
}
